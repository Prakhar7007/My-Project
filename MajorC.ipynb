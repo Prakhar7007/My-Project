{
 "cells": [
  {
   "cell_type": "code",
   "execution_count": 9,
   "metadata": {},
   "outputs": [],
   "source": [
    "import pandas as pd\n",
    "from sklearn import preprocessing\n",
    "from sklearn.model_selection import train_test_split\n",
    "from sklearn.neighbors import KNeighborsClassifier\n",
    "from sklearn.preprocessing import LabelEncoder\n",
    "from sklearn import metrics\n",
    "covid19 = pd.read_csv('state_wise_daily.csv')"
   ]
  },
  {
   "cell_type": "code",
   "execution_count": 10,
   "metadata": {},
   "outputs": [
    {
     "name": "stdout",
     "output_type": "stream",
     "text": [
      "<class 'pandas.core.frame.DataFrame'>\n",
      "RangeIndex: 339 entries, 0 to 338\n",
      "Data columns (total 41 columns):\n",
      " #   Column  Non-Null Count  Dtype \n",
      "---  ------  --------------  ----- \n",
      " 0   Date    339 non-null    object\n",
      " 1   Status  339 non-null    object\n",
      " 2   TT      339 non-null    int64 \n",
      " 3   AN      339 non-null    int64 \n",
      " 4   AP      339 non-null    int64 \n",
      " 5   AR      339 non-null    int64 \n",
      " 6   AS      339 non-null    int64 \n",
      " 7   BR      339 non-null    int64 \n",
      " 8   CH      339 non-null    int64 \n",
      " 9   CT      339 non-null    int64 \n",
      " 10  DN      339 non-null    int64 \n",
      " 11  DD      339 non-null    int64 \n",
      " 12  DL      339 non-null    int64 \n",
      " 13  GA      339 non-null    int64 \n",
      " 14  GJ      339 non-null    int64 \n",
      " 15  HR      339 non-null    int64 \n",
      " 16  HP      339 non-null    int64 \n",
      " 17  JK      339 non-null    int64 \n",
      " 18  JH      339 non-null    int64 \n",
      " 19  KA      339 non-null    int64 \n",
      " 20  KL      339 non-null    int64 \n",
      " 21  LA      339 non-null    int64 \n",
      " 22  LD      339 non-null    int64 \n",
      " 23  MP      339 non-null    int64 \n",
      " 24  MH      339 non-null    int64 \n",
      " 25  MN      339 non-null    int64 \n",
      " 26  ML      339 non-null    int64 \n",
      " 27  MZ      339 non-null    int64 \n",
      " 28  NL      339 non-null    int64 \n",
      " 29  OR      339 non-null    int64 \n",
      " 30  PY      339 non-null    int64 \n",
      " 31  PB      339 non-null    int64 \n",
      " 32  RJ      339 non-null    int64 \n",
      " 33  SK      339 non-null    int64 \n",
      " 34  TN      339 non-null    int64 \n",
      " 35  TG      339 non-null    int64 \n",
      " 36  TR      339 non-null    int64 \n",
      " 37  UP      339 non-null    int64 \n",
      " 38  UT      339 non-null    int64 \n",
      " 39  WB      339 non-null    int64 \n",
      " 40  UN      339 non-null    int64 \n",
      "dtypes: int64(39), object(2)\n",
      "memory usage: 108.7+ KB\n"
     ]
    }
   ],
   "source": [
    "covid19.info()"
   ]
  },
  {
   "cell_type": "code",
   "execution_count": 11,
   "metadata": {},
   "outputs": [
    {
     "data": {
      "text/html": [
       "<div>\n",
       "<style scoped>\n",
       "    .dataframe tbody tr th:only-of-type {\n",
       "        vertical-align: middle;\n",
       "    }\n",
       "\n",
       "    .dataframe tbody tr th {\n",
       "        vertical-align: top;\n",
       "    }\n",
       "\n",
       "    .dataframe thead th {\n",
       "        text-align: right;\n",
       "    }\n",
       "</style>\n",
       "<table border=\"1\" class=\"dataframe\">\n",
       "  <thead>\n",
       "    <tr style=\"text-align: right;\">\n",
       "      <th></th>\n",
       "      <th>Sno</th>\n",
       "      <th>State</th>\n",
       "      <th>Confirmed</th>\n",
       "      <th>Recovered</th>\n",
       "      <th>Deaths</th>\n",
       "      <th>Active</th>\n",
       "      <th>Last_Updated_Time</th>\n",
       "      <th>Migrated_Other</th>\n",
       "      <th>State_code</th>\n",
       "      <th>Delta_Confirmed</th>\n",
       "      <th>Delta_Recovered</th>\n",
       "      <th>Delta_Deaths</th>\n",
       "      <th>State_Notes</th>\n",
       "    </tr>\n",
       "  </thead>\n",
       "  <tbody>\n",
       "    <tr>\n",
       "      <th>0</th>\n",
       "      <td>1</td>\n",
       "      <td>Total</td>\n",
       "      <td>850878</td>\n",
       "      <td>536324</td>\n",
       "      <td>22696</td>\n",
       "      <td>291476</td>\n",
       "      <td>12/7/2020 13:06</td>\n",
       "      <td>382</td>\n",
       "      <td>TT</td>\n",
       "      <td>519</td>\n",
       "      <td>93</td>\n",
       "      <td>9</td>\n",
       "      <td>NaN</td>\n",
       "    </tr>\n",
       "    <tr>\n",
       "      <th>1</th>\n",
       "      <td>2</td>\n",
       "      <td>Maharashtra</td>\n",
       "      <td>246600</td>\n",
       "      <td>136985</td>\n",
       "      <td>10116</td>\n",
       "      <td>99202</td>\n",
       "      <td>12/7/2020 1:51</td>\n",
       "      <td>297</td>\n",
       "      <td>MH</td>\n",
       "      <td>0</td>\n",
       "      <td>0</td>\n",
       "      <td>0</td>\n",
       "      <td>297 cases were marked as non-covid deaths in M...</td>\n",
       "    </tr>\n",
       "    <tr>\n",
       "      <th>2</th>\n",
       "      <td>3</td>\n",
       "      <td>Tamil Nadu</td>\n",
       "      <td>134226</td>\n",
       "      <td>85915</td>\n",
       "      <td>1898</td>\n",
       "      <td>46413</td>\n",
       "      <td>11/7/2020 19:07</td>\n",
       "      <td>0</td>\n",
       "      <td>TN</td>\n",
       "      <td>0</td>\n",
       "      <td>0</td>\n",
       "      <td>0</td>\n",
       "      <td>2 deaths cross notified to other states from C...</td>\n",
       "    </tr>\n",
       "    <tr>\n",
       "      <th>3</th>\n",
       "      <td>4</td>\n",
       "      <td>Delhi</td>\n",
       "      <td>110921</td>\n",
       "      <td>87692</td>\n",
       "      <td>3334</td>\n",
       "      <td>19895</td>\n",
       "      <td>11/7/2020 19:50</td>\n",
       "      <td>0</td>\n",
       "      <td>DL</td>\n",
       "      <td>0</td>\n",
       "      <td>0</td>\n",
       "      <td>0</td>\n",
       "      <td>Delhi bulletins in the morning, containing dat...</td>\n",
       "    </tr>\n",
       "    <tr>\n",
       "      <th>4</th>\n",
       "      <td>5</td>\n",
       "      <td>Gujarat</td>\n",
       "      <td>41027</td>\n",
       "      <td>28685</td>\n",
       "      <td>2033</td>\n",
       "      <td>10309</td>\n",
       "      <td>11/7/2020 20:18</td>\n",
       "      <td>0</td>\n",
       "      <td>GJ</td>\n",
       "      <td>0</td>\n",
       "      <td>0</td>\n",
       "      <td>0</td>\n",
       "      <td>NaN</td>\n",
       "    </tr>\n",
       "  </tbody>\n",
       "</table>\n",
       "</div>"
      ],
      "text/plain": [
       "   Sno        State  Confirmed  Recovered  Deaths  Active Last_Updated_Time  \\\n",
       "0    1        Total     850878     536324   22696  291476   12/7/2020 13:06   \n",
       "1    2  Maharashtra     246600     136985   10116   99202    12/7/2020 1:51   \n",
       "2    3   Tamil Nadu     134226      85915    1898   46413   11/7/2020 19:07   \n",
       "3    4        Delhi     110921      87692    3334   19895   11/7/2020 19:50   \n",
       "4    5      Gujarat      41027      28685    2033   10309   11/7/2020 20:18   \n",
       "\n",
       "   Migrated_Other State_code  Delta_Confirmed  Delta_Recovered  Delta_Deaths  \\\n",
       "0             382         TT              519               93             9   \n",
       "1             297         MH                0                0             0   \n",
       "2               0         TN                0                0             0   \n",
       "3               0         DL                0                0             0   \n",
       "4               0         GJ                0                0             0   \n",
       "\n",
       "                                         State_Notes  \n",
       "0                                                NaN  \n",
       "1  297 cases were marked as non-covid deaths in M...  \n",
       "2  2 deaths cross notified to other states from C...  \n",
       "3  Delhi bulletins in the morning, containing dat...  \n",
       "4                                                NaN  "
      ]
     },
     "execution_count": 11,
     "metadata": {},
     "output_type": "execute_result"
    }
   ],
   "source": [
    "data1.head()"
   ]
  },
  {
   "cell_type": "code",
   "execution_count": 12,
   "metadata": {},
   "outputs": [
    {
     "data": {
      "text/plain": [
       "array(['Confirmed', 'Recovered', 'Deceased'], dtype=object)"
      ]
     },
     "execution_count": 12,
     "metadata": {},
     "output_type": "execute_result"
    }
   ],
   "source": [
    "covid19['Status'].unique()"
   ]
  },
  {
   "cell_type": "code",
   "execution_count": 15,
   "metadata": {},
   "outputs": [],
   "source": [
    "covid19['Status'] = covid19['Status'].replace(\"Confirmed\", \"1\")\n",
    "covid19['Status'] = covid19['Status'].replace(\"Recovered\", \"2\")\n",
    "covid19['Status'] = covid19['Status'].replace(\"Deceased\", \"3\")"
   ]
  },
  {
   "cell_type": "code",
   "execution_count": 16,
   "metadata": {},
   "outputs": [
    {
     "data": {
      "text/html": [
       "<div>\n",
       "<style scoped>\n",
       "    .dataframe tbody tr th:only-of-type {\n",
       "        vertical-align: middle;\n",
       "    }\n",
       "\n",
       "    .dataframe tbody tr th {\n",
       "        vertical-align: top;\n",
       "    }\n",
       "\n",
       "    .dataframe thead th {\n",
       "        text-align: right;\n",
       "    }\n",
       "</style>\n",
       "<table border=\"1\" class=\"dataframe\">\n",
       "  <thead>\n",
       "    <tr style=\"text-align: right;\">\n",
       "      <th></th>\n",
       "      <th>Sno</th>\n",
       "      <th>State</th>\n",
       "      <th>Confirmed</th>\n",
       "      <th>Recovered</th>\n",
       "      <th>Deaths</th>\n",
       "      <th>Active</th>\n",
       "      <th>Last_Updated_Time</th>\n",
       "      <th>Migrated_Other</th>\n",
       "      <th>State_code</th>\n",
       "      <th>Delta_Confirmed</th>\n",
       "      <th>Delta_Recovered</th>\n",
       "      <th>Delta_Deaths</th>\n",
       "      <th>State_Notes</th>\n",
       "    </tr>\n",
       "  </thead>\n",
       "  <tbody>\n",
       "    <tr>\n",
       "      <th>0</th>\n",
       "      <td>1</td>\n",
       "      <td>Total</td>\n",
       "      <td>850878</td>\n",
       "      <td>536324</td>\n",
       "      <td>22696</td>\n",
       "      <td>291476</td>\n",
       "      <td>12/7/2020 13:06</td>\n",
       "      <td>382</td>\n",
       "      <td>TT</td>\n",
       "      <td>519</td>\n",
       "      <td>93</td>\n",
       "      <td>9</td>\n",
       "      <td>NaN</td>\n",
       "    </tr>\n",
       "    <tr>\n",
       "      <th>1</th>\n",
       "      <td>2</td>\n",
       "      <td>Maharashtra</td>\n",
       "      <td>246600</td>\n",
       "      <td>136985</td>\n",
       "      <td>10116</td>\n",
       "      <td>99202</td>\n",
       "      <td>12/7/2020 1:51</td>\n",
       "      <td>297</td>\n",
       "      <td>MH</td>\n",
       "      <td>0</td>\n",
       "      <td>0</td>\n",
       "      <td>0</td>\n",
       "      <td>297 cases were marked as non-covid deaths in M...</td>\n",
       "    </tr>\n",
       "    <tr>\n",
       "      <th>2</th>\n",
       "      <td>3</td>\n",
       "      <td>Tamil Nadu</td>\n",
       "      <td>134226</td>\n",
       "      <td>85915</td>\n",
       "      <td>1898</td>\n",
       "      <td>46413</td>\n",
       "      <td>11/7/2020 19:07</td>\n",
       "      <td>0</td>\n",
       "      <td>TN</td>\n",
       "      <td>0</td>\n",
       "      <td>0</td>\n",
       "      <td>0</td>\n",
       "      <td>2 deaths cross notified to other states from C...</td>\n",
       "    </tr>\n",
       "    <tr>\n",
       "      <th>3</th>\n",
       "      <td>4</td>\n",
       "      <td>Delhi</td>\n",
       "      <td>110921</td>\n",
       "      <td>87692</td>\n",
       "      <td>3334</td>\n",
       "      <td>19895</td>\n",
       "      <td>11/7/2020 19:50</td>\n",
       "      <td>0</td>\n",
       "      <td>DL</td>\n",
       "      <td>0</td>\n",
       "      <td>0</td>\n",
       "      <td>0</td>\n",
       "      <td>Delhi bulletins in the morning, containing dat...</td>\n",
       "    </tr>\n",
       "    <tr>\n",
       "      <th>4</th>\n",
       "      <td>5</td>\n",
       "      <td>Gujarat</td>\n",
       "      <td>41027</td>\n",
       "      <td>28685</td>\n",
       "      <td>2033</td>\n",
       "      <td>10309</td>\n",
       "      <td>11/7/2020 20:18</td>\n",
       "      <td>0</td>\n",
       "      <td>GJ</td>\n",
       "      <td>0</td>\n",
       "      <td>0</td>\n",
       "      <td>0</td>\n",
       "      <td>NaN</td>\n",
       "    </tr>\n",
       "  </tbody>\n",
       "</table>\n",
       "</div>"
      ],
      "text/plain": [
       "   Sno        State  Confirmed  Recovered  Deaths  Active Last_Updated_Time  \\\n",
       "0    1        Total     850878     536324   22696  291476   12/7/2020 13:06   \n",
       "1    2  Maharashtra     246600     136985   10116   99202    12/7/2020 1:51   \n",
       "2    3   Tamil Nadu     134226      85915    1898   46413   11/7/2020 19:07   \n",
       "3    4        Delhi     110921      87692    3334   19895   11/7/2020 19:50   \n",
       "4    5      Gujarat      41027      28685    2033   10309   11/7/2020 20:18   \n",
       "\n",
       "   Migrated_Other State_code  Delta_Confirmed  Delta_Recovered  Delta_Deaths  \\\n",
       "0             382         TT              519               93             9   \n",
       "1             297         MH                0                0             0   \n",
       "2               0         TN                0                0             0   \n",
       "3               0         DL                0                0             0   \n",
       "4               0         GJ                0                0             0   \n",
       "\n",
       "                                         State_Notes  \n",
       "0                                                NaN  \n",
       "1  297 cases were marked as non-covid deaths in M...  \n",
       "2  2 deaths cross notified to other states from C...  \n",
       "3  Delhi bulletins in the morning, containing dat...  \n",
       "4                                                NaN  "
      ]
     },
     "execution_count": 16,
     "metadata": {},
     "output_type": "execute_result"
    }
   ],
   "source": [
    "data1.head()"
   ]
  },
  {
   "cell_type": "code",
   "execution_count": 17,
   "metadata": {},
   "outputs": [
    {
     "data": {
      "text/plain": [
       "Index(['Date', 'Status', 'TT', 'AN', 'AP', 'AR', 'AS', 'BR', 'CH', 'CT', 'DN',\n",
       "       'DD', 'DL', 'GA', 'GJ', 'HR', 'HP', 'JK', 'JH', 'KA', 'KL', 'LA', 'LD',\n",
       "       'MP', 'MH', 'MN', 'ML', 'MZ', 'NL', 'OR', 'PY', 'PB', 'RJ', 'SK', 'TN',\n",
       "       'TG', 'TR', 'UP', 'UT', 'WB', 'UN'],\n",
       "      dtype='object')"
      ]
     },
     "execution_count": 17,
     "metadata": {},
     "output_type": "execute_result"
    }
   ],
   "source": [
    "covid19.columns"
   ]
  },
  {
   "cell_type": "code",
   "execution_count": 24,
   "metadata": {},
   "outputs": [
    {
     "data": {
      "text/plain": [
       "array([[81,  0,  1,  0,  0,  0,  0,  0,  0,  0,  7,  0,  0, 14,  0,  2,\n",
       "         0,  6, 19,  0,  0,  0, 14,  0,  0,  0,  0,  0,  0,  1,  3,  0,\n",
       "         1,  1,  0, 12,  0,  0,  0],\n",
       "       [ 9,  0,  0,  0,  0,  0,  0,  0,  0,  0,  1,  0,  0,  0,  0,  0,\n",
       "         0,  0,  3,  0,  0,  0,  0,  0,  0,  0,  0,  0,  0,  0,  1,  0,\n",
       "         0,  0,  0,  4,  0,  0,  0],\n",
       "       [ 2,  0,  0,  0,  0,  0,  0,  0,  0,  0,  1,  0,  0,  0,  0,  0,\n",
       "         0,  1,  0,  0,  0,  0,  0,  0,  0,  0,  0,  0,  0,  0,  0,  0,\n",
       "         0,  0,  0,  0,  0,  0,  0],\n",
       "       [27,  0,  0,  0,  0,  0,  0,  0,  0,  0,  0,  0,  0,  0,  0,  0,\n",
       "         0,  0,  5,  0,  0,  0, 18,  0,  0,  0,  0,  0,  0,  0,  1,  0,\n",
       "         0,  2,  0,  1,  0,  0,  0],\n",
       "       [ 4,  0,  0,  0,  0,  0,  0,  0,  0,  0,  1,  0,  0,  0,  0,  0,\n",
       "         0,  0,  0,  0,  0,  0,  0,  0,  0,  0,  0,  0,  0,  0,  2,  0,\n",
       "         0,  1,  0,  0,  0,  0,  0]], dtype=int64)"
      ]
     },
     "execution_count": 24,
     "metadata": {},
     "output_type": "execute_result"
    }
   ],
   "source": [
    "x = covid19[['TT', 'AN', 'AP', 'AR', 'AS', 'BR', 'CH', 'CT', 'DN', 'DD',\n",
    "       'DL', 'GA', 'GJ', 'HR', 'HP', 'JK', 'JH', 'KA', 'KL', 'LA', 'LD', 'MP',\n",
    "       'MH', 'MN', 'ML', 'MZ', 'NL', 'OR', 'PY', 'PB', 'RJ', 'SK', 'TN', 'TG',\n",
    "       'TR', 'UP', 'UT', 'WB', 'UN']] .values\n",
    "x[0:5]"
   ]
  },
  {
   "cell_type": "code",
   "execution_count": 25,
   "metadata": {},
   "outputs": [
    {
     "data": {
      "text/plain": [
       "array(['1', '2', '3', '1', '2', '3', '1', '2', '3', '1'], dtype=object)"
      ]
     },
     "execution_count": 25,
     "metadata": {},
     "output_type": "execute_result"
    }
   ],
   "source": [
    "y = covid19['Status'].values\n",
    "y[0:10]"
   ]
  },
  {
   "cell_type": "code",
   "execution_count": 26,
   "metadata": {},
   "outputs": [
    {
     "data": {
      "text/plain": [
       "array([[-0.62451996, -0.29969586, -0.49942675, -0.27273895, -0.43200217,\n",
       "        -0.61144253, -0.37142725, -0.48640485, -0.28320812,  0.        ,\n",
       "        -0.50477293, -0.39439029, -0.83351839, -0.43461081, -0.53933044,\n",
       "        -0.54935858, -0.50577976, -0.38024594, -0.12563789, -0.26644883,\n",
       "         0.        , -0.86886064, -0.62200766, -0.36753881, -0.29329277,\n",
       "        -0.19045829, -0.31161334, -0.56282807, -0.36286126, -0.41806277,\n",
       "        -0.79804342, -0.14848015, -0.5566646 , -0.36825929, -0.38969719,\n",
       "        -0.61948012, -0.48583017, -0.61979618, -0.07588856],\n",
       "       [-0.63870386, -0.29969586, -0.50604387, -0.27273895, -0.43200217,\n",
       "        -0.61144253, -0.37142725, -0.48640485, -0.28320812,  0.        ,\n",
       "        -0.51095468, -0.39439029, -0.83351839, -0.51943123, -0.53933044,\n",
       "        -0.57837129, -0.50577976, -0.40682578, -0.49639956, -0.26644883,\n",
       "         0.        , -0.86886064, -0.63146723, -0.36753881, -0.29329277,\n",
       "        -0.19045829, -0.31161334, -0.56282807, -0.36286126, -0.43190564,\n",
       "        -0.81368048, -0.14848015, -0.55778318, -0.37195299, -0.38969719,\n",
       "        -0.66004782, -0.48583017, -0.61979618, -0.07588856],\n",
       "       [-0.64008285, -0.29969586, -0.50604387, -0.27273895, -0.43200217,\n",
       "        -0.61144253, -0.37142725, -0.48640485, -0.28320812,  0.        ,\n",
       "        -0.51095468, -0.39439029, -0.83351839, -0.51943123, -0.53933044,\n",
       "        -0.57837129, -0.50577976, -0.40239581, -0.56591737, -0.26644883,\n",
       "         0.        , -0.86886064, -0.63146723, -0.36753881, -0.29329277,\n",
       "        -0.19045829, -0.31161334, -0.56282807, -0.36286126, -0.43190564,\n",
       "        -0.82149901, -0.14848015, -0.55778318, -0.37195299, -0.38969719,\n",
       "        -0.68033167, -0.48583017, -0.61979618, -0.07588856],\n",
       "       [-0.63515788, -0.29969586, -0.50604387, -0.27273895, -0.43200217,\n",
       "        -0.61144253, -0.37142725, -0.48640485, -0.28320812,  0.        ,\n",
       "        -0.51198497, -0.39439029, -0.83351839, -0.51943123, -0.53933044,\n",
       "        -0.57837129, -0.50577976, -0.40682578, -0.45005435, -0.26644883,\n",
       "         0.        , -0.86886064, -0.61930493, -0.36753881, -0.29329277,\n",
       "        -0.19045829, -0.31161334, -0.56282807, -0.36286126, -0.43190564,\n",
       "        -0.81368048, -0.14848015, -0.55778318, -0.36456558, -0.38969719,\n",
       "        -0.67526071, -0.48583017, -0.61979618, -0.07588856],\n",
       "       [-0.63968885, -0.29969586, -0.50604387, -0.27273895, -0.43200217,\n",
       "        -0.61144253, -0.37142725, -0.48640485, -0.28320812,  0.        ,\n",
       "        -0.51095468, -0.39439029, -0.83351839, -0.51943123, -0.53933044,\n",
       "        -0.57837129, -0.50577976, -0.40682578, -0.56591737, -0.26644883,\n",
       "         0.        , -0.86886064, -0.63146723, -0.36753881, -0.29329277,\n",
       "        -0.19045829, -0.31161334, -0.56282807, -0.36286126, -0.43190564,\n",
       "        -0.80586195, -0.14848015, -0.55778318, -0.36825929, -0.38969719,\n",
       "        -0.68033167, -0.48583017, -0.61979618, -0.07588856]])"
      ]
     },
     "execution_count": 26,
     "metadata": {},
     "output_type": "execute_result"
    }
   ],
   "source": [
    "x = preprocessing.StandardScaler().fit(x).transform(x.astype(float))\n",
    "x[0:5]"
   ]
  },
  {
   "cell_type": "code",
   "execution_count": 27,
   "metadata": {},
   "outputs": [
    {
     "name": "stdout",
     "output_type": "stream",
     "text": [
      "Train set: (271, 39) (271,)\n",
      "Test set: (68, 39) (68,)\n"
     ]
    }
   ],
   "source": [
    "x_train, x_test, y_train, y_test = train_test_split( x, y, test_size=0.2, random_state=2)\n",
    "print ('Train set:', x_train.shape,  y_train.shape)\n",
    "print ('Test set:', x_test.shape,  y_test.shape)"
   ]
  },
  {
   "cell_type": "code",
   "execution_count": 29,
   "metadata": {},
   "outputs": [
    {
     "data": {
      "text/plain": [
       "KNeighborsClassifier(algorithm='auto', leaf_size=30, metric='minkowski',\n",
       "                     metric_params=None, n_jobs=None, n_neighbors=5, p=2,\n",
       "                     weights='uniform')"
      ]
     },
     "execution_count": 29,
     "metadata": {},
     "output_type": "execute_result"
    }
   ],
   "source": [
    "k = 5\n",
    "neigh = KNeighborsClassifier(n_neighbors = k).fit(x_train,y_train)\n",
    "neigh"
   ]
  },
  {
   "cell_type": "code",
   "execution_count": 30,
   "metadata": {},
   "outputs": [
    {
     "data": {
      "text/plain": [
       "array(['3', '1', '1', '3', '3', '1', '3', '2', '3', '3'], dtype=object)"
      ]
     },
     "execution_count": 30,
     "metadata": {},
     "output_type": "execute_result"
    }
   ],
   "source": [
    "yhat = neigh.predict(x_test)  \n",
    "yhat[0:10]"
   ]
  },
  {
   "cell_type": "code",
   "execution_count": 32,
   "metadata": {},
   "outputs": [
    {
     "name": "stdout",
     "output_type": "stream",
     "text": [
      "Model accuracy is 0.661765\n"
     ]
    }
   ],
   "source": [
    "score = neigh.score(x_test, y_test)\n",
    "print(\"Model accuracy is {}\".format(score.round(1)))"
   ]
  },
  {
   "cell_type": "code",
   "execution_count": null,
   "metadata": {},
   "outputs": [],
   "source": []
  }
 ],
 "metadata": {
  "kernelspec": {
   "display_name": "Python 3",
   "language": "python",
   "name": "python3"
  },
  "language_info": {
   "codemirror_mode": {
    "name": "ipython",
    "version": 3
   },
   "file_extension": ".py",
   "mimetype": "text/x-python",
   "name": "python",
   "nbconvert_exporter": "python",
   "pygments_lexer": "ipython3",
   "version": "3.7.6"
  }
 },
 "nbformat": 4,
 "nbformat_minor": 4
}
