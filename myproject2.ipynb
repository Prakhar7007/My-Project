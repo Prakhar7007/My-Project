{
 "cells": [
  {
   "cell_type": "code",
   "execution_count": 2,
   "metadata": {},
   "outputs": [
    {
     "name": "stdout",
     "output_type": "stream",
     "text": [
      "Infected COVID19 cases in india:\n",
      "bihar: 11700\n",
      "uttar pradesh: 26554\n",
      "delhi: 97200\n",
      "punjab: 6109\n",
      "jharkhand: 2739\n"
     ]
    }
   ],
   "source": [
    "list1=[\"bihar\",\"uttar pradesh\",\"delhi\",\"punjab\",\"jharkhand\"]\n",
    "list2=[11700,26554,97200,6109,2739]\n",
    "print(\"Infected COVID19 cases in india:\")\n",
    "for c in range(len(list1)):\n",
    " print(list1[c]+\": \"+str(list2[c]))"
   ]
  },
  {
   "cell_type": "code",
   "execution_count": 3,
   "metadata": {},
   "outputs": [
    {
     "name": "stdout",
     "output_type": "stream",
     "text": [
      "active COVID19 cases in india:\n",
      "bihar: 2925\n",
      "uttar pradesh: 7627\n",
      "delhi: 25940\n",
      "punjab: 1641\n",
      "jharkhand: 687\n"
     ]
    }
   ],
   "source": [
    "tuple1=(\"bihar\",\"uttar pradesh\",\"delhi\",\"punjab\",\"jharkhand\")\n",
    "tuple2=[2925,7627,25940,1641,687]\n",
    "print(\"active COVID19 cases in india:\")\n",
    "for c in range(len(tuple1)):\n",
    " print(tuple1[c]+\": \"+str(tuple2[c]))"
   ]
  },
  {
   "cell_type": "code",
   "execution_count": 4,
   "metadata": {},
   "outputs": [
    {
     "name": "stdout",
     "output_type": "stream",
     "text": [
      "recovered COVID19 cases in india:\n",
      "bihar :  8686\n",
      "uttar pradesh :  18154\n",
      "delhi :  68256\n",
      "punjab :  4306\n",
      "jharkhand :  2035\n"
     ]
    }
   ],
   "source": [
    "Dictionary={\"bihar\":8686,\"uttar pradesh\":18154,\"delhi\":68256,\"punjab\":4306,\"jharkhand\":2035}\n",
    "print(\"recovered COVID19 cases in india:\")\n",
    "for keys,values in Dictionary.items():\n",
    " print(keys,\": \",values)"
   ]
  },
  {
   "cell_type": "code",
   "execution_count": null,
   "metadata": {},
   "outputs": [],
   "source": []
  }
 ],
 "metadata": {
  "kernelspec": {
   "display_name": "Python 3",
   "language": "python",
   "name": "python3"
  },
  "language_info": {
   "codemirror_mode": {
    "name": "ipython",
    "version": 3
   },
   "file_extension": ".py",
   "mimetype": "text/x-python",
   "name": "python",
   "nbconvert_exporter": "python",
   "pygments_lexer": "ipython3",
   "version": "3.7.6"
  }
 },
 "nbformat": 4,
 "nbformat_minor": 4
}
