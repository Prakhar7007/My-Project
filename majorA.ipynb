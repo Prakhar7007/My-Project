{
 "cells": [
  {
   "cell_type": "code",
   "execution_count": 1,
   "metadata": {},
   "outputs": [],
   "source": [
    "import pandas as pd\n",
    "import numpy as np\n",
    "import matplotlib.pyplot as plt"
   ]
  },
  {
   "cell_type": "code",
   "execution_count": 2,
   "metadata": {},
   "outputs": [],
   "source": [
    "covid19 = pd.read_csv(\"state_wise.csv\")"
   ]
  },
  {
   "cell_type": "code",
   "execution_count": 3,
   "metadata": {},
   "outputs": [
    {
     "data": {
      "text/html": [
       "<div>\n",
       "<style scoped>\n",
       "    .dataframe tbody tr th:only-of-type {\n",
       "        vertical-align: middle;\n",
       "    }\n",
       "\n",
       "    .dataframe tbody tr th {\n",
       "        vertical-align: top;\n",
       "    }\n",
       "\n",
       "    .dataframe thead th {\n",
       "        text-align: right;\n",
       "    }\n",
       "</style>\n",
       "<table border=\"1\" class=\"dataframe\">\n",
       "  <thead>\n",
       "    <tr style=\"text-align: right;\">\n",
       "      <th></th>\n",
       "      <th>Sno</th>\n",
       "      <th>Confirmed</th>\n",
       "      <th>Recovered</th>\n",
       "      <th>Deaths</th>\n",
       "      <th>Active</th>\n",
       "      <th>Migrated_Other</th>\n",
       "      <th>Delta_Confirmed</th>\n",
       "      <th>Delta_Recovered</th>\n",
       "      <th>Delta_Deaths</th>\n",
       "    </tr>\n",
       "  </thead>\n",
       "  <tbody>\n",
       "    <tr>\n",
       "      <th>count</th>\n",
       "      <td>38.000000</td>\n",
       "      <td>38.000000</td>\n",
       "      <td>38.000000</td>\n",
       "      <td>38.000000</td>\n",
       "      <td>38.000000</td>\n",
       "      <td>38.000000</td>\n",
       "      <td>38.000000</td>\n",
       "      <td>38.000000</td>\n",
       "      <td>38.000000</td>\n",
       "    </tr>\n",
       "    <tr>\n",
       "      <th>mean</th>\n",
       "      <td>19.500000</td>\n",
       "      <td>44783.052632</td>\n",
       "      <td>28227.578947</td>\n",
       "      <td>1194.526316</td>\n",
       "      <td>15340.842105</td>\n",
       "      <td>20.105263</td>\n",
       "      <td>27.315789</td>\n",
       "      <td>4.894737</td>\n",
       "      <td>0.473684</td>\n",
       "    </tr>\n",
       "    <tr>\n",
       "      <th>std</th>\n",
       "      <td>11.113055</td>\n",
       "      <td>142187.490720</td>\n",
       "      <td>89268.123741</td>\n",
       "      <td>3976.871151</td>\n",
       "      <td>49227.432975</td>\n",
       "      <td>77.156138</td>\n",
       "      <td>145.251526</td>\n",
       "      <td>17.466245</td>\n",
       "      <td>1.751244</td>\n",
       "    </tr>\n",
       "    <tr>\n",
       "      <th>min</th>\n",
       "      <td>1.000000</td>\n",
       "      <td>0.000000</td>\n",
       "      <td>0.000000</td>\n",
       "      <td>0.000000</td>\n",
       "      <td>0.000000</td>\n",
       "      <td>0.000000</td>\n",
       "      <td>-392.000000</td>\n",
       "      <td>0.000000</td>\n",
       "      <td>0.000000</td>\n",
       "    </tr>\n",
       "    <tr>\n",
       "      <th>25%</th>\n",
       "      <td>10.250000</td>\n",
       "      <td>1103.750000</td>\n",
       "      <td>494.500000</td>\n",
       "      <td>2.000000</td>\n",
       "      <td>311.750000</td>\n",
       "      <td>0.000000</td>\n",
       "      <td>0.000000</td>\n",
       "      <td>0.000000</td>\n",
       "      <td>0.000000</td>\n",
       "    </tr>\n",
       "    <tr>\n",
       "      <th>50%</th>\n",
       "      <td>19.500000</td>\n",
       "      <td>5668.000000</td>\n",
       "      <td>3516.500000</td>\n",
       "      <td>33.500000</td>\n",
       "      <td>2688.000000</td>\n",
       "      <td>0.000000</td>\n",
       "      <td>0.000000</td>\n",
       "      <td>0.000000</td>\n",
       "      <td>0.000000</td>\n",
       "    </tr>\n",
       "    <tr>\n",
       "      <th>75%</th>\n",
       "      <td>28.750000</td>\n",
       "      <td>26401.500000</td>\n",
       "      <td>15225.000000</td>\n",
       "      <td>467.250000</td>\n",
       "      <td>8592.250000</td>\n",
       "      <td>2.250000</td>\n",
       "      <td>0.000000</td>\n",
       "      <td>0.000000</td>\n",
       "      <td>0.000000</td>\n",
       "    </tr>\n",
       "    <tr>\n",
       "      <th>max</th>\n",
       "      <td>38.000000</td>\n",
       "      <td>850878.000000</td>\n",
       "      <td>536324.000000</td>\n",
       "      <td>22696.000000</td>\n",
       "      <td>291476.000000</td>\n",
       "      <td>382.000000</td>\n",
       "      <td>595.000000</td>\n",
       "      <td>93.000000</td>\n",
       "      <td>9.000000</td>\n",
       "    </tr>\n",
       "  </tbody>\n",
       "</table>\n",
       "</div>"
      ],
      "text/plain": [
       "             Sno      Confirmed      Recovered        Deaths         Active  \\\n",
       "count  38.000000      38.000000      38.000000     38.000000      38.000000   \n",
       "mean   19.500000   44783.052632   28227.578947   1194.526316   15340.842105   \n",
       "std    11.113055  142187.490720   89268.123741   3976.871151   49227.432975   \n",
       "min     1.000000       0.000000       0.000000      0.000000       0.000000   \n",
       "25%    10.250000    1103.750000     494.500000      2.000000     311.750000   \n",
       "50%    19.500000    5668.000000    3516.500000     33.500000    2688.000000   \n",
       "75%    28.750000   26401.500000   15225.000000    467.250000    8592.250000   \n",
       "max    38.000000  850878.000000  536324.000000  22696.000000  291476.000000   \n",
       "\n",
       "       Migrated_Other  Delta_Confirmed  Delta_Recovered  Delta_Deaths  \n",
       "count       38.000000        38.000000        38.000000     38.000000  \n",
       "mean        20.105263        27.315789         4.894737      0.473684  \n",
       "std         77.156138       145.251526        17.466245      1.751244  \n",
       "min          0.000000      -392.000000         0.000000      0.000000  \n",
       "25%          0.000000         0.000000         0.000000      0.000000  \n",
       "50%          0.000000         0.000000         0.000000      0.000000  \n",
       "75%          2.250000         0.000000         0.000000      0.000000  \n",
       "max        382.000000       595.000000        93.000000      9.000000  "
      ]
     },
     "execution_count": 3,
     "metadata": {},
     "output_type": "execute_result"
    }
   ],
   "source": [
    "covid19.describe()"
   ]
  },
  {
   "cell_type": "code",
   "execution_count": 13,
   "metadata": {},
   "outputs": [],
   "source": [
    "covid19state = pd.DataFrame(covid19[covid19[\"State\"]==\"Tripura\"])"
   ]
  },
  {
   "cell_type": "code",
   "execution_count": 14,
   "metadata": {},
   "outputs": [
    {
     "data": {
      "text/plain": [
       "24    3910\n",
       "dtype: int64"
      ]
     },
     "execution_count": 14,
     "metadata": {},
     "output_type": "execute_result"
    }
   ],
   "source": [
    "total = covid19state.Confirmed+covid19state.Recovered+covid19state.Deaths+covid19state.Active\n",
    "total"
   ]
  },
  {
   "cell_type": "code",
   "execution_count": 15,
   "metadata": {},
   "outputs": [
    {
     "data": {
      "text/html": [
       "<div>\n",
       "<style scoped>\n",
       "    .dataframe tbody tr th:only-of-type {\n",
       "        vertical-align: middle;\n",
       "    }\n",
       "\n",
       "    .dataframe tbody tr th {\n",
       "        vertical-align: top;\n",
       "    }\n",
       "\n",
       "    .dataframe thead th {\n",
       "        text-align: right;\n",
       "    }\n",
       "</style>\n",
       "<table border=\"1\" class=\"dataframe\">\n",
       "  <thead>\n",
       "    <tr style=\"text-align: right;\">\n",
       "      <th></th>\n",
       "      <th>Sno</th>\n",
       "      <th>State</th>\n",
       "      <th>Confirmed</th>\n",
       "      <th>Recovered</th>\n",
       "      <th>Deaths</th>\n",
       "      <th>Active</th>\n",
       "      <th>Last_Updated_Time</th>\n",
       "      <th>Migrated_Other</th>\n",
       "      <th>State_code</th>\n",
       "      <th>Delta_Confirmed</th>\n",
       "      <th>Delta_Recovered</th>\n",
       "      <th>Delta_Deaths</th>\n",
       "      <th>State_Notes</th>\n",
       "    </tr>\n",
       "  </thead>\n",
       "  <tbody>\n",
       "    <tr>\n",
       "      <th>24</th>\n",
       "      <td>25</td>\n",
       "      <td>Tripura</td>\n",
       "      <td>1962</td>\n",
       "      <td>1375</td>\n",
       "      <td>2</td>\n",
       "      <td>571</td>\n",
       "      <td>12/7/2020 0:49</td>\n",
       "      <td>14</td>\n",
       "      <td>TR</td>\n",
       "      <td>0</td>\n",
       "      <td>0</td>\n",
       "      <td>0</td>\n",
       "      <td>NaN</td>\n",
       "    </tr>\n",
       "  </tbody>\n",
       "</table>\n",
       "</div>"
      ],
      "text/plain": [
       "    Sno    State  Confirmed  Recovered  Deaths  Active Last_Updated_Time  \\\n",
       "24   25  Tripura       1962       1375       2     571    12/7/2020 0:49   \n",
       "\n",
       "    Migrated_Other State_code  Delta_Confirmed  Delta_Recovered  Delta_Deaths  \\\n",
       "24              14         TR                0                0             0   \n",
       "\n",
       "   State_Notes  \n",
       "24         NaN  "
      ]
     },
     "execution_count": 15,
     "metadata": {},
     "output_type": "execute_result"
    }
   ],
   "source": [
    "covid19state"
   ]
  },
  {
   "cell_type": "code",
   "execution_count": 18,
   "metadata": {},
   "outputs": [
    {
     "name": "stderr",
     "output_type": "stream",
     "text": [
      "C:\\Users\\le\\anaconda3\\lib\\site-packages\\ipykernel_launcher.py:7: MatplotlibDeprecationWarning: Non-1D inputs to pie() are currently squeeze()d, but this behavior is deprecated since 3.1 and will be removed in 3.3; pass a 1D array instead.\n",
      "  import sys\n"
     ]
    },
    {
     "data": {
      "image/png": "[encoded data removed]",
      "text/plain": [
       "<Figure size 432x288 with 1 Axes>"
      ]
     },
     "metadata": {},
     "output_type": "display_data"
    }
   ],
   "source": [
    "from pandas import DataFrame\n",
    "Data = {'Cases': [35092,22689,913, 11490]}\n",
    "labels = ['CONFIRMED','RECOVERD','DEATHS', 'ACTIVE']\n",
    "plt.title('COVID19 TRipura\\n')\n",
    "colors = ['blue','orange','red', 'brown']\n",
    "df = DataFrame(Data,columns=['Cases'])\n",
    "plt.pie(df,autopct='%1.1f%%', labels=labels, colors=colors,shadow=True)\n",
    "plt.show()"
   ]
  },
  {
   "cell_type": "code",
   "execution_count": null,
   "metadata": {},
   "outputs": [],
   "source": []
  }
 ],
 "metadata": {
  "kernelspec": {
   "display_name": "Python 3",
   "language": "python",
   "name": "python3"
  },
  "language_info": {
   "codemirror_mode": {
    "name": "ipython",
    "version": 3
   },
   "file_extension": ".py",
   "mimetype": "text/x-python",
   "name": "python",
   "nbconvert_exporter": "python",
   "pygments_lexer": "ipython3",
   "version": "3.7.6"
  }
 },
 "nbformat": 4,
 "nbformat_minor": 4
}
